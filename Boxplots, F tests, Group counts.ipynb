{
 "cells": [
  {
   "cell_type": "code",
   "execution_count": null,
   "metadata": {},
   "outputs": [],
   "source": [
    "!pip install statannot"
   ]
  },
  {
   "cell_type": "code",
   "execution_count": 1,
   "metadata": {},
   "outputs": [],
   "source": [
    "import numpy as np\n",
    "import pandas as pd\n",
    "import matplotlib.pyplot as plt\n",
    "from sklearn.linear_model import LinearRegression\n",
    "import matplotlib.ticker as ticker\n",
    "plt.rcParams['axes.unicode_minus'] = False\n",
    "import random as random\n",
    "import seaborn as sns\n",
    "sns.set()\n",
    "from matplotlib import style\n",
    "style.use('ggplot')\n",
    "%matplotlib inline\n",
    "from statannot import add_stat_annotation"
   ]
  },
  {
   "cell_type": "code",
   "execution_count": 2,
   "metadata": {},
   "outputs": [
    {
     "data": {
      "text/plain": [
       "2816"
      ]
     },
     "execution_count": 2,
     "metadata": {},
     "output_type": "execute_result"
    }
   ],
   "source": [
    "o5_time_SameBMI = pd.read_csv(\"quadro_matched.csv\")\n",
    "len(np.unique(o5_time_SameBMI['pid']))"
   ]
  },
  {
   "cell_type": "markdown",
   "metadata": {},
   "source": [
    "# Box plot function"
   ]
  },
  {
   "cell_type": "code",
   "execution_count": 77,
   "metadata": {},
   "outputs": [],
   "source": [
    "def plotbox_pvals(lab_test,time_data):\n",
    "    order = ['normless', 'overless', 'normgrow', 'overgrow']\n",
    "    time_data = time_data.rename(columns={\"cbc_pla\":\"Platelet\"})\n",
    "    time_data = time_data.rename(columns={\"state_number\":\"State\"})\n",
    "    ax = sns.boxplot(x=\"State\", y=lab_test, data=time_data, order=order, palette=\"tab10\")\n",
    "    add_stat_annotation(ax, data=time_data, x=\"State\", y=lab_test, \n",
    "                        box_pairs=[('normless', 'overless'), ('normless', 'normgrow'), ('normless', 'overgrow'),\\\n",
    "                                   ('overless', 'normgrow'),('overless', 'overgrow'),('normgrow', 'overgrow')],\n",
    "                        test='Mann-Whitney', text_format='star', loc='outside', verbose=2)"
   ]
  },
  {
   "cell_type": "code",
   "execution_count": 80,
   "metadata": {},
   "outputs": [
    {
     "name": "stdout",
     "output_type": "stream",
     "text": [
      "p-value annotation legend:\n",
      "ns: 5.00e-02 < p <= 1.00e+00\n",
      "*: 1.00e-02 < p <= 5.00e-02\n",
      "**: 1.00e-03 < p <= 1.00e-02\n",
      "***: 1.00e-04 < p <= 1.00e-03\n",
      "****: p <= 1.00e-04\n",
      "\n",
      "overless v.s. normless: Mann-Whitney-Wilcoxon test two-sided with Bonferroni correction, P_val=1.000e+00 U_stat=1.037e+04\n",
      "normgrow v.s. overless: Mann-Whitney-Wilcoxon test two-sided with Bonferroni correction, P_val=4.846e-02 U_stat=1.453e+04\n",
      "overgrow v.s. normgrow: Mann-Whitney-Wilcoxon test two-sided with Bonferroni correction, P_val=1.000e+00 U_stat=1.871e+04\n",
      "normgrow v.s. normless: Mann-Whitney-Wilcoxon test two-sided with Bonferroni correction, P_val=1.856e-01 U_stat=1.432e+04\n",
      "overgrow v.s. overless: Mann-Whitney-Wilcoxon test two-sided with Bonferroni correction, P_val=1.767e-03 U_stat=1.812e+04\n",
      "overgrow v.s. normless: Mann-Whitney-Wilcoxon test two-sided with Bonferroni correction, P_val=1.178e-02 U_stat=1.787e+04\n"
     ]
    },
    {
     "data": {
      "image/png": "[encoded data removed]",
      "text/plain": [
       "<Figure size 432x288 with 1 Axes>"
      ]
     },
     "metadata": {
      "needs_background": "light"
     },
     "output_type": "display_data"
    }
   ],
   "source": [
    "time10 = o5_time_SameBMI[o5_time_SameBMI[\"time_lapse\"]==10]\n",
    "plotbox_pvals('Platelet',time10)"
   ]
  },
  {
   "cell_type": "markdown",
   "metadata": {},
   "source": [
    "# F test"
   ]
  },
  {
   "cell_type": "code",
   "execution_count": 46,
   "metadata": {},
   "outputs": [],
   "source": [
    "import numpy as np\n",
    "import scipy\n",
    "\n",
    "#define F-test function\n",
    "def f_test(x, y):\n",
    "    x = np.array(x)\n",
    "    y = np.array(y)\n",
    "    f = np.var(x)/np.var(y) #calculate F test statistic \n",
    "    dfn = x.size-1 #define degrees of freedom numerator \n",
    "    dfd = y.size-1 #define degrees of freedom denominator \n",
    "    p = 1- scipy.stats.f.cdf(f, dfn, dfd) #find p-value of F test statistic \n",
    "    return f, p"
   ]
  },
  {
   "cell_type": "code",
   "execution_count": 64,
   "metadata": {},
   "outputs": [],
   "source": [
    "order = ['normless', 'overless', 'normgrow', 'overgrow']\n",
    "combos = []\n",
    "for i in itertools.combinations(order, 2):\n",
    "    combos.append(i)\n",
    "    \n",
    "def f_labtests(test):\n",
    "    for i in range(len(combos)):\n",
    "        x = o5_time_SameBMI[o5_time_SameBMI[\"state_number\"]==combos[i][0]][test].dropna()\n",
    "        y = o5_time_SameBMI[o5_time_SameBMI[\"state_number\"]==combos[i][1]][test].dropna()\n",
    "        print(combos[i]), print(test)\n",
    "        print(f_test(x,y))"
   ]
  },
  {
   "cell_type": "markdown",
   "metadata": {},
   "source": [
    "# Group count function"
   ]
  },
  {
   "cell_type": "code",
   "execution_count": 41,
   "metadata": {},
   "outputs": [],
   "source": [
    "def group_count(test_list):\n",
    "    dct = {}\n",
    "    order = ['normgrow', 'overgrow', 'normless', 'overless']\n",
    "    name = ['Increase+Normal','Increase+Overweight','Decrease+Normal','Decrease+Overweight']\n",
    "    for i in range(4):\n",
    "            dct[name[i]] = [] \n",
    "\n",
    "    datas = test_list\n",
    "\n",
    "    for data in datas:\n",
    "        count = 0\n",
    "        for i in order:\n",
    "            group = data[data['state_number']==i]\n",
    "            dct[name[count]].append(str(len(group['pid'].unique())))\n",
    "            count += 1\n",
    "\n",
    "\n",
    "    df = pd.DataFrame.from_dict(dct, orient='index')\n",
    "    df = df.transpose()\n",
    "    df.rename(index = {0:\"Year 0\",\n",
    "                   1:\"Year 5\",\n",
    "                   2:\"Year 10\"},\n",
    "                   inplace = True)\n",
    "    return df"
   ]
  },
  {
   "cell_type": "code",
   "execution_count": 43,
   "metadata": {},
   "outputs": [],
   "source": [
    "cho_0= cho[cho[\"time_lapse\"]==0]\n",
    "cho_5= cho[cho[\"time_lapse\"]==5]\n",
    "cho_10= cho[cho[\"time_lapse\"]==10]"
   ]
  },
  {
   "cell_type": "code",
   "execution_count": 44,
   "metadata": {},
   "outputs": [
    {
     "data": {
      "text/html": [
       "<div>\n",
       "<style scoped>\n",
       "    .dataframe tbody tr th:only-of-type {\n",
       "        vertical-align: middle;\n",
       "    }\n",
       "\n",
       "    .dataframe tbody tr th {\n",
       "        vertical-align: top;\n",
       "    }\n",
       "\n",
       "    .dataframe thead th {\n",
       "        text-align: right;\n",
       "    }\n",
       "</style>\n",
       "<table border=\"1\" class=\"dataframe\">\n",
       "  <thead>\n",
       "    <tr style=\"text-align: right;\">\n",
       "      <th></th>\n",
       "      <th>Increase+Normal</th>\n",
       "      <th>Increase+Overweight</th>\n",
       "      <th>Decrease+Normal</th>\n",
       "      <th>Decrease+Overweight</th>\n",
       "    </tr>\n",
       "  </thead>\n",
       "  <tbody>\n",
       "    <tr>\n",
       "      <th>Year 0</th>\n",
       "      <td>704</td>\n",
       "      <td>704</td>\n",
       "      <td>703</td>\n",
       "      <td>704</td>\n",
       "    </tr>\n",
       "    <tr>\n",
       "      <th>Year 5</th>\n",
       "      <td>419</td>\n",
       "      <td>392</td>\n",
       "      <td>413</td>\n",
       "      <td>421</td>\n",
       "    </tr>\n",
       "    <tr>\n",
       "      <th>Year 10</th>\n",
       "      <td>171</td>\n",
       "      <td>204</td>\n",
       "      <td>144</td>\n",
       "      <td>144</td>\n",
       "    </tr>\n",
       "  </tbody>\n",
       "</table>\n",
       "</div>"
      ],
      "text/plain": [
       "        Increase+Normal Increase+Overweight Decrease+Normal  \\\n",
       "Year 0              704                 704             703   \n",
       "Year 5              419                 392             413   \n",
       "Year 10             171                 204             144   \n",
       "\n",
       "        Decrease+Overweight  \n",
       "Year 0                  704  \n",
       "Year 5                  421  \n",
       "Year 10                 144  "
      ]
     },
     "execution_count": 44,
     "metadata": {},
     "output_type": "execute_result"
    }
   ],
   "source": [
    "group_count([cho_0,cho_5,cho_10])"
   ]
  },
  {
   "cell_type": "code",
   "execution_count": null,
   "metadata": {},
   "outputs": [],
   "source": []
  }
 ],
 "metadata": {
  "kernelspec": {
   "display_name": "Python 3",
   "language": "python",
   "name": "python3"
  },
  "language_info": {
   "codemirror_mode": {
    "name": "ipython",
    "version": 3
   },
   "file_extension": ".py",
   "mimetype": "text/x-python",
   "name": "python",
   "nbconvert_exporter": "python",
   "pygments_lexer": "ipython3",
   "version": "3.7.3"
  }
 },
 "nbformat": 4,
 "nbformat_minor": 2
}
