{
 "cells": [
  {
   "cell_type": "code",
   "execution_count": 2,
   "metadata": {},
   "outputs": [],
   "source": [
    "import numpy as np\n",
    "import pandas as pd\n",
    "import matplotlib.pyplot as plt\n",
    "from sklearn.linear_model import LinearRegression\n",
    "import matplotlib.ticker as ticker\n",
    "plt.rcParams['axes.unicode_minus'] = False\n",
    "import random as random\n",
    "import seaborn as sns\n",
    "sns.set()\n",
    "from matplotlib import style\n",
    "style.use('ggplot')\n",
    "%matplotlib inline\n",
    "from scipy import stats\n",
    "from scipy.stats import mannwhitneyu\n",
    "from statsmodels.stats import weightstats as stests"
   ]
  },
  {
   "cell_type": "markdown",
   "metadata": {},
   "source": [
    "# Normality Tests"
   ]
  },
  {
   "cell_type": "code",
   "execution_count": null,
   "metadata": {},
   "outputs": [],
   "source": [
    "# Normality tests on the focused groups\n",
    "\n",
    "alpha = 1e-3\n",
    "columns = Indecrease_matched.columns\n",
    "no_normal_dist_list = []\n",
    "normal_dist_list = []\n",
    "\n",
    "def stat_test_continuous_norm(start, end):\n",
    "    \"\"\"\n",
    "    input: start and end should be integers, corresponding to the column number in excel sheet of data\n",
    "    \"\"\"\n",
    "    dic = dict()\n",
    "    name = ['test name', 'Increase normality p', 'Decrease normality p','both normal']\n",
    "    for i in range(4):\n",
    "        dic[name[i]] = []    \n",
    "    \n",
    "    for i in range(start,end):\n",
    "        fat_data = increase.iloc[:,i].dropna()\n",
    "        norm_data = decrease.iloc[:,i].dropna()\n",
    "    \n",
    "        if len(fat_data)<8 or len(norm_data)<8:\n",
    "            continue\n",
    "        else:\n",
    "            score_fat, p_fat = stats.normaltest(fat_data)\n",
    "            score_norm, p_norm = stats.normaltest(norm_data)\n",
    "            \n",
    "        if p_fat >= alpha and p_norm >= alpha:\n",
    "            dic[name[0]].append(columns[i])\n",
    "            dic[name[1]].append(round(p_fat,3))\n",
    "            dic[name[2]].append(round(p_norm,3))\n",
    "            dic[name[3]].append('Yes')\n",
    "            \n",
    "        else:\n",
    "            dic[name[0]].append(columns[i])\n",
    "            dic[name[1]].append(round(p_fat,3))\n",
    "            dic[name[2]].append(round(p_norm,3))\n",
    "            dic[name[3]].append('No')\n",
    "\n",
    "        df = pd.DataFrame.from_dict(dic, orient='index')\n",
    "        df = df.transpose()\n",
    "        #df = df.sort_values(['stat p'],ascending=False).reset_index(drop=True)\n",
    "    return df\n",
    "\n",
    "norm_result = stat_test_continuous_norm(356,493)"
   ]
  },
  {
   "cell_type": "markdown",
   "metadata": {},
   "source": [
    "# Z tests"
   ]
  },
  {
   "cell_type": "code",
   "execution_count": null,
   "metadata": {},
   "outputs": [],
   "source": [
    "# Calculate Z test, lab selection is done in excel\n",
    "\n",
    "def z_test(start,end):\n",
    "    z = []\n",
    "    p = []\n",
    "    col_n = []\n",
    "    for i in range(start-1,end):\n",
    "        ztest ,pval = stests.ztest(fat.iloc[:,i].dropna(), x2=normal.iloc[:,i].dropna())\n",
    "        z.append(round(ztest,2))\n",
    "        p.append(round(pval,2))\n",
    "        col_n.append(column_list[i])\n",
    "    df = pd.DataFrame({'col_n':col_n, 'z':z, 'p':p})\n",
    "    return df\n",
    "\n",
    "z_test(356,493)"
   ]
  },
  {
   "cell_type": "markdown",
   "metadata": {},
   "source": [
    "# Adding Case/Control Column"
   ]
  },
  {
   "cell_type": "code",
   "execution_count": 196,
   "metadata": {},
   "outputs": [],
   "source": [
    "def addtreatmentcol(datasets):\n",
    "    for dataset in datasets:\n",
    "        dataset['CaseControl'] = np.where(dataset['state'] == 'Decrease_norm', 1, 0)\n",
    "addtreatmentcol([b_o_2,b_g_2,b_r_2])"
   ]
  },
  {
   "cell_type": "markdown",
   "metadata": {},
   "source": [
    "# Mann Whitney U tests on three different years"
   ]
  },
  {
   "cell_type": "code",
   "execution_count": 217,
   "metadata": {},
   "outputs": [],
   "source": [
    "alpha = 1e-3\n",
    "columns = b_o_g_r_2_full.columns\n",
    "no_normal_dist_list = []\n",
    "normal_dist_list = []\n",
    "def stat_test_continuous_mann_year(start, end):\n",
    "    \"\"\"\n",
    "    input: start and end should be integers, corresponding to the column number in excel sheet of data\n",
    "    \"\"\"\n",
    "    dic = dict()\n",
    "    name = ['test name', 'year0 p' , 'year5 p', 'year10 p']\n",
    "    for i in range(4):\n",
    "        dic[name[i]] = [] \n",
    "        \n",
    "    for i in range(start,end):\n",
    "        count = 0\n",
    "        dic[name[count]].append(columns[i])\n",
    "        for year in [0,5,10]:\n",
    "            count += 1\n",
    "            increase_year = increase_gr[increase_gr['time_lapse']==year]\n",
    "            decrease_year = decrease_bo[decrease_bo['time_lapse']==year]\n",
    "            \n",
    "            fat_data = increase_year.iloc[:,i].dropna()\n",
    "            norm_data = decrease_year.iloc[:,i].dropna()\n",
    "    \n",
    "            if norm_data.isin([0]).all() & fat_data.isin([0]).all():\n",
    "                dic[name[count]].append('ns')\n",
    "            else:\n",
    "                score, p = mannwhitneyu(fat_data, norm_data)\n",
    "                dic[name[count]].append(round(p,2))\n",
    "\n",
    "\n",
    "    df = pd.DataFrame.from_dict(dic, orient='index')\n",
    "    df = df.transpose()\n",
    "    #df = df.sort_values(['mann p'],ascending=False).reset_index(drop=True)\n",
    "    return df\n"
   ]
  },
  {
   "cell_type": "markdown",
   "metadata": {},
   "source": [
    "# Correlation Distributions"
   ]
  },
  {
   "cell_type": "code",
   "execution_count": 2,
   "metadata": {},
   "outputs": [],
   "source": [
    "def difference(dataset, interval=1):\n",
    "    diff = list()\n",
    "    for i in range(interval, len(dataset)):\n",
    "        value = dataset[i] - dataset[i - interval]\n",
    "        diff.append(value)\n",
    "    return pd.Series(diff)\n",
    "\n",
    "\n",
    "def corr_dist(parameter_list,dataset):\n",
    "    fig, ax = plt.subplots(4,3,sharex=False,sharey=False,figsize = (18,15))\n",
    "    c1 = 0\n",
    "    c2 = 0\n",
    "    \n",
    "    for parameter in parameter_list:\n",
    "        sample = dataset[dataset['BMI'].notna()]\n",
    "        sample = sample[sample[parameter].notna()]\n",
    "        sample = sample.sort_values([\"pid\",\"age\"],ascending=True)\n",
    "    \n",
    "        pid_listPerParameter=[]\n",
    "        for pid in sample['pid']:\n",
    "            if pid not in pid_listPerParameter :\n",
    "                pid_listPerParameter.append(pid)\n",
    "\n",
    "        corr_list = []\n",
    "        for i in pid_listPerParameter:\n",
    "            person = sample[sample['pid']== i]    \n",
    "            y = np.array(person['BMI'])\n",
    "            z = np.array(person[parameter])\n",
    "\n",
    "            dif_y = difference(y)\n",
    "            dif_z = difference(z)\n",
    "\n",
    "            correlation = dif_y.corr(dif_z)\n",
    "            corr_list.append(correlation)\n",
    "\n",
    "        ax[c1,c2].set_xlim([-1.5,1.5])\n",
    "        sns.distplot(corr_list, ax=ax[c1,c2],kde=False, hist=True, bins='auto', color = 'darkblue', hist_kws={'edgecolor':'black'},kde_kws={'linewidth': 2, \"label\": \"KDE\"})\n",
    "        ax[c1,c2].set_ylabel('')\n",
    "        plt.setp(ax[c1,c2], xlabel='Correlation Value')\n",
    "        plt.setp(ax[c1,c2], ylabel= parameter+' population')\n",
    "        \n",
    "        c2 += 1\n",
    "        if c2%3 == 0:\n",
    "            c1 += 1\n",
    "            c2 = 0"
   ]
  },
  {
   "cell_type": "markdown",
   "metadata": {},
   "source": [
    "# Kolmogorov–Smirnov test"
   ]
  },
  {
   "cell_type": "code",
   "execution_count": null,
   "metadata": {},
   "outputs": [],
   "source": [
    "def ks_test(parameter_list,datasets):\n",
    "    stat_list = []\n",
    "    p_list = []\n",
    "    for parameter in parameter_list:\n",
    "        count = 0\n",
    "        for dataset in datasets:\n",
    "            \n",
    "            sample = dataset[dataset['BMI'].notna()]\n",
    "            sample = sample[sample[parameter].notna()]\n",
    "            sample = sample.sort_values([\"pid\",\"age\"],ascending=True)\n",
    "\n",
    "            pid_listPerParameter=[]\n",
    "            for pid in sample['pid']:\n",
    "                if pid not in pid_listPerParameter :\n",
    "                    pid_listPerParameter.append(pid)\n",
    "\n",
    "            corr_list = []\n",
    "            for i in pid_listPerParameter:\n",
    "                person = sample[sample['pid']== i]    \n",
    "                y = np.array(person['BMI'])\n",
    "                z = np.array(person[parameter])\n",
    "\n",
    "                dif_y = difference(y)\n",
    "                dif_z = difference(z)\n",
    "\n",
    "                correlation = dif_y.corr(dif_z)\n",
    "                corr_list.append(correlation)\n",
    "                \n",
    "            if count == 0:\n",
    "                count+=1\n",
    "                data1 = corr_list\n",
    "            elif count == 1:\n",
    "                ks_stat, ks_p = stats.ks_2samp(data1, corr_list)\n",
    "        \n",
    "        stat_list.append(round(ks_stat,2))\n",
    "        p_list.append(round(ks_p,2))\n",
    "\n",
    "    return stat_list, p_list"
   ]
  }
 ],
 "metadata": {
  "kernelspec": {
   "display_name": "Python 3",
   "language": "python",
   "name": "python3"
  },
  "language_info": {
   "codemirror_mode": {
    "name": "ipython",
    "version": 3
   },
   "file_extension": ".py",
   "mimetype": "text/x-python",
   "name": "python",
   "nbconvert_exporter": "python",
   "pygments_lexer": "ipython3",
   "version": "3.7.3"
  }
 },
 "nbformat": 4,
 "nbformat_minor": 2
}
